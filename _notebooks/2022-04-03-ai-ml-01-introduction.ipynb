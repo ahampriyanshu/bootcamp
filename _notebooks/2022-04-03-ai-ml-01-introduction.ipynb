{
 "cells": [
  {
   "cell_type": "markdown",
   "id": "e7ca9ca2",
   "metadata": {},
   "source": [
    "# 01. Data Science\n",
    "\n",
    "> anaconda commands and installation, jupyter notebook installation and keybindings\n",
    "\n",
    "- toc: true \n",
    "- badges: true\n",
    "- comments: true\n",
    "- categories: [\"data-science\", python]\n",
    "- author: Priyanshu Tiwari"
   ]
  },
  {
   "cell_type": "markdown",
   "id": "e7ca9ca2",
   "metadata": {},
   "source": [
    "## Anaconda Installation (linux)\n",
    "\n",
    "1. Download [Anaconda installer](https://www.anaconda.com/download/#linux)\n",
    "1. Run ``bash ~/Downloads/Anaconda3-2***.**-Linux-x86_64.sh``\n",
    "1. Follow the prompts on the installer screens\n",
    "1. Restart the terminal \n",
    "1. Verify the installation by running ``conda info``"
   ]
  },
  {
   "cell_type": "markdown",
   "id": "1af38bd7",
   "metadata": {},
   "source": [
    "## Anaconda Commands\n",
    "\n",
    "Description | Command\n",
    ":--- |:---\n",
    "Creating new virtual env | conda create -n myenv pandas jupyterlab\n",
    "Cloning existing env | conda create -n myclone --clone myenv\n",
    "Version specified | conda create -n myenv python=3.8\n",
    "Activating the env | conda activate myenv\n",
    "Deactivating the env | conda deactivate\n",
    "Listing env | conda env list\n",
    "Removing env | conda env remove --name myenv\n",
    "Installing packages | conda install pandas"
   ]
  },
  {
   "cell_type": "markdown",
   "id": "edeacae8",
   "metadata": {},
   "source": [
    "## Uninstalling Anaconda\n",
    "\n",
    "```\n",
    "conda install anaconda-clean\n",
    "anaconda-clean --yes\n",
    "sudo rm -rf ~/anaconda3\n",
    "sudo rm -rf ~/.anaconda_backup   \n",
    "sudo rm -rf ~/.condarc ~/.conda ~/.continuum\n",
    "```\n",
    "*  Remove the PATH from _~/.bashrc_ and _~/.bash_profile_"
   ]
  },
  {
   "cell_type": "markdown",
   "id": "2e8a4fd1",
   "metadata": {},
   "source": [
    "## Jupyter Notebook Installation (linux)\n",
    "* You can also install Jupyter individualy and manage the virtual enviroment with virtualenv\n",
    " \n",
    "```\n",
    "pip3 install Jupyter\n",
    "pip3 install virtualenv\n",
    "virtualenv my_project_env\n",
    "source my_project_env/bin/activate\n",
    "jupyter notebook\n",
    "```\n"
   ]
  },
  {
   "cell_type": "markdown",
   "id": "fa838c6a",
   "metadata": {},
   "source": [
    "## Jupyter Notebook 500 : Internal Server Error\n",
    "\n",
    "* In this case upgrade your Jupyter hub\n",
    "\n",
    "```\n",
    "pip3 install --upgrade jupyterhub\n",
    "pip3 install --upgrade --user nbconve\n",
    "```"
   ]
  },
  {
   "cell_type": "markdown",
   "id": "11e5a965",
   "metadata": {},
   "source": [
    "## Jupyter Keybindings\n",
    "\n",
    "Description | Command\n",
    ":--- | :---\n",
    "A | Insert a new cell above\n",
    "B | Insert a new cell below\n",
    "M | Markdown\n",
    "Y | Code\n",
    "D+D | Delete the current cell\n",
    "Shift + Enter | Compile and move to the next cell \n",
    "Alt + Enter | Compile and insert a new cell\n",
    "Shift + Tab | Docstring\n",
    "Esc + F | Find and Replace\n",
    "Esc + O | Toggle cell output\n",
    "Shift + J | Selects cell in downwards direction\n",
    "Shift + K | Selects cell in upwards direction\n",
    "Shift + M | Merge cells"
   ]
  },
  {
   "cell_type": "markdown",
   "id": "13b94edc",
   "metadata": {},
   "source": [
    "## Uninstalling Jupyter\n",
    "\n",
    "```\n",
    "pip3 uninstall jupyter jupyter_core jupyter-client jupyter-console jupyterlab_pygments notebook qtconsole nbconvert nbformat\n",
    "```"
   ]
  },
  {
   "cell_type": "markdown",
   "id": "5207369d",
   "metadata": {},
   "source": []
  }
 ],
 "metadata": {
  "kernelspec": {
   "display_name": "Python 3",
   "language": "python",
   "name": "python3"
  },
  "language_info": {
   "codemirror_mode": {
    "name": "ipython",
    "version": 3
   },
   "file_extension": ".py",
   "mimetype": "text/x-python",
   "name": "python",
   "nbconvert_exporter": "python",
   "pygments_lexer": "ipython3",
   "version": "3.8.8"
  }
 },
 "nbformat": 4,
 "nbformat_minor": 5
}
